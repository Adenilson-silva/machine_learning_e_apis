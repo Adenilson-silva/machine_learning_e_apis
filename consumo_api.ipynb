{
 "cells": [
  {
   "cell_type": "code",
   "execution_count": 1,
   "id": "a098370f",
   "metadata": {},
   "outputs": [],
   "source": [
    "import requests"
   ]
  },
  {
   "cell_type": "code",
   "execution_count": 2,
   "id": "7f3dfeb1",
   "metadata": {},
   "outputs": [],
   "source": [
    "url = 'http://127.0.0.1:5000/'"
   ]
  },
  {
   "cell_type": "code",
   "execution_count": 3,
   "id": "f7a557b9",
   "metadata": {},
   "outputs": [],
   "source": [
    "usuario = 'user'\n",
    "senha = 'password'\n",
    "auth = requests.auth.HTTPBasicAuth(usuario, senha)"
   ]
  },
  {
   "cell_type": "code",
   "execution_count": 4,
   "id": "4d222fb4",
   "metadata": {},
   "outputs": [],
   "source": [
    "dados1 = {\n",
    "    \"finalidade\": \"custeio\",\n",
    "    \"atividade\": \"pecuario(a)\",\n",
    "    \"modalidade\": \"pesca\",\n",
    "    \"produto\": \"armacao para barco de pesca\",\n",
    "    \"categoria_empresa\": \"Em crescimento\"\n",
    "}\n",
    "\n",
    "dados2 = {\n",
    "    \"finalidade\": \"custeio\",\n",
    "    \"atividade\": \"agricola\",\n",
    "    \"modalidade\": \"lavoura\",\n",
    "    \"produto\": \"cafe\",\n",
    "    \"categoria_empresa\": \"Tradicional\"\n",
    "}"
   ]
  },
  {
   "cell_type": "code",
   "execution_count": 5,
   "id": "54cc0a7d-2ba1-4275-b649-a25bb31a5d6f",
   "metadata": {},
   "outputs": [
    {
     "name": "stdout",
     "output_type": "stream",
     "text": [
      "URL: http://127.0.0.1:5000/\n",
      "Código: 200\n",
      "Resposta: Modelos de Machine Learning\n"
     ]
    }
   ],
   "source": [
    "response_url = requests.get(url)\n",
    "print(f'URL: {url}')\n",
    "print(f'Código: {response_url.status_code}')\n",
    "print(f'Resposta: {response_url.text}')"
   ]
  },
  {
   "cell_type": "code",
   "execution_count": 6,
   "id": "4f815999",
   "metadata": {},
   "outputs": [
    {
     "name": "stdout",
     "output_type": "stream",
     "text": [
      "URL: http://127.0.0.1:5000/CategoricalNBModel/\n",
      "Código: 200\n",
      "Resposta: {'input': {'atividade': 'pecuario(a)', 'categoria_empresa': 'Em crescimento', 'finalidade': 'custeio', 'modalidade': 'pesca', 'produto': 'armacao para barco de pesca'}, 'output': {'priorizacao': 'Normal'}}\n"
     ]
    }
   ],
   "source": [
    "url_model = url+'CategoricalNBModel/'\n",
    "response_url_model = requests.post(url_model, json=dados1, auth=auth)\n",
    "print(f'URL: {url_model}')\n",
    "print(f'Código: {response_url_model.status_code}')\n",
    "print(f'Resposta: {response_url_model.json()}')"
   ]
  },
  {
   "cell_type": "code",
   "execution_count": 7,
   "id": "4697aa91-f663-43b7-8313-ee0c651cbb42",
   "metadata": {},
   "outputs": [
    {
     "name": "stdout",
     "output_type": "stream",
     "text": [
      "URL: http://127.0.0.1:5000/CategoricalNBModel/\n",
      "Código: 200\n",
      "Resposta: {'input': {'atividade': 'agricola', 'categoria_empresa': 'Tradicional', 'finalidade': 'custeio', 'modalidade': 'lavoura', 'produto': 'cafe'}, 'output': {'priorizacao': 'Alto'}}\n"
     ]
    }
   ],
   "source": [
    "url_model = url+'CategoricalNBModel/'\n",
    "response_url_model = requests.post(url_model, json=dados2, auth=auth)\n",
    "print(f'URL: {url_model}')\n",
    "print(f'Código: {response_url_model.status_code}')\n",
    "print(f'Resposta: {response_url_model.json()}')"
   ]
  },
  {
   "cell_type": "code",
   "execution_count": 8,
   "id": "9f628a2a",
   "metadata": {},
   "outputs": [
    {
     "name": "stdout",
     "output_type": "stream",
     "text": [
      "URL: http://127.0.0.1:5000/DecisionTreeClassifier/\n",
      "Código: 200\n",
      "Resposta: {'input': {'atividade': 'pecuario(a)', 'categoria_empresa': 'Em crescimento', 'finalidade': 'custeio', 'modalidade': 'pesca', 'produto': 'armacao para barco de pesca'}, 'output': {'priorizacao': 'Normal'}}\n"
     ]
    }
   ],
   "source": [
    "url_model = url+'DecisionTreeClassifier/'\n",
    "response_url_model = requests.post(url_model, json=dados1, auth=auth)\n",
    "print(f'URL: {url_model}')\n",
    "print(f'Código: {response_url_model.status_code}')\n",
    "print(f'Resposta: {response_url_model.json()}')"
   ]
  },
  {
   "cell_type": "code",
   "execution_count": 9,
   "id": "c3b43549-3550-4271-8473-e2ca5186a461",
   "metadata": {},
   "outputs": [
    {
     "name": "stdout",
     "output_type": "stream",
     "text": [
      "URL: http://127.0.0.1:5000/DecisionTreeClassifier/\n",
      "Código: 200\n",
      "Resposta: {'input': {'atividade': 'agricola', 'categoria_empresa': 'Tradicional', 'finalidade': 'custeio', 'modalidade': 'lavoura', 'produto': 'cafe'}, 'output': {'priorizacao': 'Alto'}}\n"
     ]
    }
   ],
   "source": [
    "url_model = url+'DecisionTreeClassifier/'\n",
    "response_url_model = requests.post(url_model, json=dados2, auth=auth)\n",
    "print(f'URL: {url_model}')\n",
    "print(f'Código: {response_url_model.status_code}')\n",
    "print(f'Resposta: {response_url_model.json()}')"
   ]
  },
  {
   "cell_type": "code",
   "execution_count": 10,
   "id": "b68399a0",
   "metadata": {},
   "outputs": [
    {
     "name": "stdout",
     "output_type": "stream",
     "text": [
      "URL: http://127.0.0.1:5000/RandomForestClassifier/\n",
      "Código: 200\n",
      "Resposta: {'input': {'atividade': 'pecuario(a)', 'categoria_empresa': 'Em crescimento', 'finalidade': 'custeio', 'modalidade': 'pesca', 'produto': 'armacao para barco de pesca'}, 'output': {'priorizacao': 'Normal'}}\n"
     ]
    }
   ],
   "source": [
    "url_model = url+'RandomForestClassifier/'\n",
    "response_url_model = requests.post(url_model, json=dados1, auth=auth)\n",
    "print(f'URL: {url_model}')\n",
    "print(f'Código: {response_url_model.status_code}')\n",
    "print(f'Resposta: {response_url_model.json()}')"
   ]
  },
  {
   "cell_type": "code",
   "execution_count": 11,
   "id": "593c6965-e23e-4e48-a30a-977de3b6a71c",
   "metadata": {},
   "outputs": [
    {
     "name": "stdout",
     "output_type": "stream",
     "text": [
      "URL: http://127.0.0.1:5000/RandomForestClassifier/\n",
      "Código: 200\n",
      "Resposta: {'input': {'atividade': 'agricola', 'categoria_empresa': 'Tradicional', 'finalidade': 'custeio', 'modalidade': 'lavoura', 'produto': 'cafe'}, 'output': {'priorizacao': 'Alto'}}\n"
     ]
    }
   ],
   "source": [
    "url_model = url+'RandomForestClassifier/'\n",
    "response_url_model = requests.post(url_model, json=dados2, auth=auth)\n",
    "print(f'URL: {url_model}')\n",
    "print(f'Código: {response_url_model.status_code}')\n",
    "print(f'Resposta: {response_url_model.json()}')"
   ]
  },
  {
   "cell_type": "code",
   "execution_count": 12,
   "id": "46a7cc6f",
   "metadata": {},
   "outputs": [
    {
     "name": "stdout",
     "output_type": "stream",
     "text": [
      "URL: http://127.0.0.1:5000/XGBClassifier/\n",
      "Código: 200\n",
      "Resposta: {'input': {'atividade': 'pecuario(a)', 'categoria_empresa': 'Em crescimento', 'finalidade': 'custeio', 'modalidade': 'pesca', 'produto': 'armacao para barco de pesca'}, 'output': {'priorizacao': 'Normal'}}\n"
     ]
    }
   ],
   "source": [
    "url_model = url+'XGBClassifier/'\n",
    "response_url_model = requests.post(url_model, json=dados1, auth=auth)\n",
    "print(f'URL: {url_model}')\n",
    "print(f'Código: {response_url_model.status_code}')\n",
    "print(f'Resposta: {response_url_model.json()}')"
   ]
  },
  {
   "cell_type": "code",
   "execution_count": 13,
   "id": "d0a01713-087c-41a9-b4cd-7f8c3781fde8",
   "metadata": {},
   "outputs": [
    {
     "name": "stdout",
     "output_type": "stream",
     "text": [
      "URL: http://127.0.0.1:5000/XGBClassifier/\n",
      "Código: 200\n",
      "Resposta: {'input': {'atividade': 'agricola', 'categoria_empresa': 'Tradicional', 'finalidade': 'custeio', 'modalidade': 'lavoura', 'produto': 'cafe'}, 'output': {'priorizacao': 'Alto'}}\n"
     ]
    }
   ],
   "source": [
    "url_model = url+'XGBClassifier/'\n",
    "response_url_model = requests.post(url_model, json=dados2, auth=auth)\n",
    "print(f'URL: {url_model}')\n",
    "print(f'Código: {response_url_model.status_code}')\n",
    "print(f'Resposta: {response_url_model.json()}')"
   ]
  }
 ],
 "metadata": {
  "kernelspec": {
   "display_name": "Python 3 (ipykernel)",
   "language": "python",
   "name": "python3"
  },
  "language_info": {
   "codemirror_mode": {
    "name": "ipython",
    "version": 3
   },
   "file_extension": ".py",
   "mimetype": "text/x-python",
   "name": "python",
   "nbconvert_exporter": "python",
   "pygments_lexer": "ipython3",
   "version": "3.9.7"
  }
 },
 "nbformat": 4,
 "nbformat_minor": 5
}
